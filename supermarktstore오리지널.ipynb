{
 "cells": [
  {
   "cell_type": "markdown",
   "metadata": {},
   "source": [
    "income 결측치 제거하기.\n"
   ]
  },
  {
   "cell_type": "code",
   "execution_count": 154,
   "metadata": {},
   "outputs": [
    {
     "name": "stdout",
     "output_type": "stream",
     "text": [
      "Hello World\n"
     ]
    }
   ],
   "source": [
    "print(\"Hello World\")\n"
   ]
  },
  {
   "cell_type": "code",
   "execution_count": 155,
   "metadata": {},
   "outputs": [],
   "source": [
    "import pandas as pd"
   ]
  },
  {
   "cell_type": "code",
   "execution_count": 156,
   "metadata": {},
   "outputs": [],
   "source": [
    "file_path = '/Users/leeanhae/Downloads/superstore_data.csv'\n",
    "\n",
    "\n",
    "\n"
   ]
  },
  {
   "cell_type": "code",
   "execution_count": 157,
   "metadata": {},
   "outputs": [
    {
     "name": "stderr",
     "output_type": "stream",
     "text": [
      "245371.48s - pydevd: Sending message related to process being replaced timed-out after 5 seconds\n"
     ]
    },
    {
     "name": "stdout",
     "output_type": "stream",
     "text": [
      "Requirement already satisfied: pip in /Library/Frameworks/Python.framework/Versions/3.12/lib/python3.12/site-packages (24.0)\n",
      "Note: you may need to restart the kernel to use updated packages.\n"
     ]
    }
   ],
   "source": [
    "pip install --upgrade pip\n"
   ]
  },
  {
   "cell_type": "code",
   "execution_count": 158,
   "metadata": {},
   "outputs": [
    {
     "name": "stderr",
     "output_type": "stream",
     "text": [
      "245379.58s - pydevd: Sending message related to process being replaced timed-out after 5 seconds\n"
     ]
    },
    {
     "name": "stdout",
     "output_type": "stream",
     "text": [
      "Requirement already satisfied: pandas in /Library/Frameworks/Python.framework/Versions/3.12/lib/python3.12/site-packages (2.2.2)\n",
      "Requirement already satisfied: numpy>=1.26.0 in /Library/Frameworks/Python.framework/Versions/3.12/lib/python3.12/site-packages (from pandas) (1.26.4)\n",
      "Requirement already satisfied: python-dateutil>=2.8.2 in /Users/leeanhae/Library/Python/3.12/lib/python/site-packages (from pandas) (2.9.0.post0)\n",
      "Requirement already satisfied: pytz>=2020.1 in /Library/Frameworks/Python.framework/Versions/3.12/lib/python3.12/site-packages (from pandas) (2024.1)\n",
      "Requirement already satisfied: tzdata>=2022.7 in /Library/Frameworks/Python.framework/Versions/3.12/lib/python3.12/site-packages (from pandas) (2024.1)\n",
      "Requirement already satisfied: six>=1.5 in /Users/leeanhae/Library/Python/3.12/lib/python/site-packages (from python-dateutil>=2.8.2->pandas) (1.16.0)\n",
      "Note: you may need to restart the kernel to use updated packages.\n"
     ]
    }
   ],
   "source": [
    "pip install pandas\n"
   ]
  },
  {
   "cell_type": "code",
   "execution_count": 159,
   "metadata": {},
   "outputs": [],
   "source": [
    "df = pd.read_csv(file_path)"
   ]
  },
  {
   "cell_type": "code",
   "execution_count": 161,
   "metadata": {},
   "outputs": [
    {
     "name": "stdout",
     "output_type": "stream",
     "text": [
      "<class 'pandas.core.frame.DataFrame'>\n",
      "RangeIndex: 2240 entries, 0 to 2239\n",
      "Data columns (total 22 columns):\n",
      " #   Column               Non-Null Count  Dtype  \n",
      "---  ------               --------------  -----  \n",
      " 0   Id                   2240 non-null   int64  \n",
      " 1   Year_Birth           2240 non-null   int64  \n",
      " 2   Education            2240 non-null   object \n",
      " 3   Marital_Status       2240 non-null   object \n",
      " 4   Income               2216 non-null   float64\n",
      " 5   Kidhome              2240 non-null   int64  \n",
      " 6   Teenhome             2240 non-null   int64  \n",
      " 7   Dt_Customer          2240 non-null   object \n",
      " 8   Recency              2240 non-null   int64  \n",
      " 9   MntWines             2240 non-null   int64  \n",
      " 10  MntFruits            2240 non-null   int64  \n",
      " 11  MntMeatProducts      2240 non-null   int64  \n",
      " 12  MntFishProducts      2240 non-null   int64  \n",
      " 13  MntSweetProducts     2240 non-null   int64  \n",
      " 14  MntGoldProds         2240 non-null   int64  \n",
      " 15  NumDealsPurchases    2240 non-null   int64  \n",
      " 16  NumWebPurchases      2240 non-null   int64  \n",
      " 17  NumCatalogPurchases  2240 non-null   int64  \n",
      " 18  NumStorePurchases    2240 non-null   int64  \n",
      " 19  NumWebVisitsMonth    2240 non-null   int64  \n",
      " 20  Response             2240 non-null   int64  \n",
      " 21  Complain             2240 non-null   int64  \n",
      "dtypes: float64(1), int64(18), object(3)\n",
      "memory usage: 385.1+ KB\n"
     ]
    }
   ],
   "source": [
    "df.info()"
   ]
  },
  {
   "cell_type": "code",
   "execution_count": 162,
   "metadata": {},
   "outputs": [],
   "source": [
    "#결측지 제거1 총결제금액과 인컴의 상관관계를 생각해서 평균구하기\n",
    "df['total_mnt'] = df['MntWines'] + df['MntFruits']"
   ]
  },
  {
   "cell_type": "code",
   "execution_count": 165,
   "metadata": {},
   "outputs": [],
   "source": [
    "#결측치제거2 나이로 평균값구하기\n",
    "#1.2024년에서 태어난 날을 빼주어서 나이값 구하기 Age로 별칭\n",
    "#2.Age 구간을 구분해주기( 그 전에 결측치 처리)\n",
    "#3.구간별 소득 평균값 도출하기\n",
    "\n",
    "#1.2024년에서 태어난 날을 빼주어서 나이값 구하기 Age로 별칭\n",
    "df['Age'] = 2024 - df['Year_Birth']"
   ]
  },
  {
   "cell_type": "markdown",
   "metadata": {},
   "source": []
  },
  {
   "cell_type": "code",
   "execution_count": 167,
   "metadata": {},
   "outputs": [],
   "source": [
    "age_info = df.set_index('Age')"
   ]
  },
  {
   "cell_type": "code",
   "execution_count": 169,
   "metadata": {},
   "outputs": [
    {
     "data": {
      "text/html": [
       "<div>\n",
       "<style scoped>\n",
       "    .dataframe tbody tr th:only-of-type {\n",
       "        vertical-align: middle;\n",
       "    }\n",
       "\n",
       "    .dataframe tbody tr th {\n",
       "        vertical-align: top;\n",
       "    }\n",
       "\n",
       "    .dataframe thead th {\n",
       "        text-align: right;\n",
       "    }\n",
       "</style>\n",
       "<table border=\"1\" class=\"dataframe\">\n",
       "  <thead>\n",
       "    <tr style=\"text-align: right;\">\n",
       "      <th></th>\n",
       "      <th>Id</th>\n",
       "      <th>Year_Birth</th>\n",
       "      <th>Education</th>\n",
       "      <th>Marital_Status</th>\n",
       "      <th>Income</th>\n",
       "      <th>Kidhome</th>\n",
       "      <th>Teenhome</th>\n",
       "      <th>Dt_Customer</th>\n",
       "      <th>Recency</th>\n",
       "      <th>MntWines</th>\n",
       "      <th>...</th>\n",
       "      <th>NumDealsPurchases</th>\n",
       "      <th>NumWebPurchases</th>\n",
       "      <th>NumCatalogPurchases</th>\n",
       "      <th>NumStorePurchases</th>\n",
       "      <th>NumWebVisitsMonth</th>\n",
       "      <th>Response</th>\n",
       "      <th>Complain</th>\n",
       "      <th>total_mnt</th>\n",
       "      <th>Age</th>\n",
       "      <th>Age_group</th>\n",
       "    </tr>\n",
       "  </thead>\n",
       "  <tbody>\n",
       "    <tr>\n",
       "      <th>513</th>\n",
       "      <td>11004</td>\n",
       "      <td>1893</td>\n",
       "      <td>2n Cycle</td>\n",
       "      <td>Single</td>\n",
       "      <td>60182.0</td>\n",
       "      <td>0</td>\n",
       "      <td>1</td>\n",
       "      <td>5/17/2014</td>\n",
       "      <td>23</td>\n",
       "      <td>8</td>\n",
       "      <td>...</td>\n",
       "      <td>1</td>\n",
       "      <td>1</td>\n",
       "      <td>0</td>\n",
       "      <td>2</td>\n",
       "      <td>4</td>\n",
       "      <td>0</td>\n",
       "      <td>0</td>\n",
       "      <td>8</td>\n",
       "      <td>131</td>\n",
       "      <td>NaN</td>\n",
       "    </tr>\n",
       "    <tr>\n",
       "      <th>827</th>\n",
       "      <td>1150</td>\n",
       "      <td>1899</td>\n",
       "      <td>PhD</td>\n",
       "      <td>Together</td>\n",
       "      <td>83532.0</td>\n",
       "      <td>0</td>\n",
       "      <td>0</td>\n",
       "      <td>9/26/2013</td>\n",
       "      <td>36</td>\n",
       "      <td>755</td>\n",
       "      <td>...</td>\n",
       "      <td>1</td>\n",
       "      <td>4</td>\n",
       "      <td>6</td>\n",
       "      <td>4</td>\n",
       "      <td>1</td>\n",
       "      <td>0</td>\n",
       "      <td>0</td>\n",
       "      <td>899</td>\n",
       "      <td>125</td>\n",
       "      <td>NaN</td>\n",
       "    </tr>\n",
       "    <tr>\n",
       "      <th>2233</th>\n",
       "      <td>7829</td>\n",
       "      <td>1900</td>\n",
       "      <td>2n Cycle</td>\n",
       "      <td>Divorced</td>\n",
       "      <td>36640.0</td>\n",
       "      <td>1</td>\n",
       "      <td>0</td>\n",
       "      <td>9/26/2013</td>\n",
       "      <td>99</td>\n",
       "      <td>15</td>\n",
       "      <td>...</td>\n",
       "      <td>1</td>\n",
       "      <td>2</td>\n",
       "      <td>1</td>\n",
       "      <td>2</td>\n",
       "      <td>5</td>\n",
       "      <td>0</td>\n",
       "      <td>1</td>\n",
       "      <td>21</td>\n",
       "      <td>124</td>\n",
       "      <td>NaN</td>\n",
       "    </tr>\n",
       "    <tr>\n",
       "      <th>2171</th>\n",
       "      <td>6663</td>\n",
       "      <td>1940</td>\n",
       "      <td>PhD</td>\n",
       "      <td>Single</td>\n",
       "      <td>51141.0</td>\n",
       "      <td>0</td>\n",
       "      <td>0</td>\n",
       "      <td>8/7/2013</td>\n",
       "      <td>96</td>\n",
       "      <td>144</td>\n",
       "      <td>...</td>\n",
       "      <td>1</td>\n",
       "      <td>3</td>\n",
       "      <td>1</td>\n",
       "      <td>4</td>\n",
       "      <td>5</td>\n",
       "      <td>0</td>\n",
       "      <td>0</td>\n",
       "      <td>144</td>\n",
       "      <td>84</td>\n",
       "      <td>over_60s</td>\n",
       "    </tr>\n",
       "    <tr>\n",
       "      <th>1740</th>\n",
       "      <td>6932</td>\n",
       "      <td>1941</td>\n",
       "      <td>PhD</td>\n",
       "      <td>Married</td>\n",
       "      <td>93027.0</td>\n",
       "      <td>0</td>\n",
       "      <td>0</td>\n",
       "      <td>4/13/2013</td>\n",
       "      <td>77</td>\n",
       "      <td>1285</td>\n",
       "      <td>...</td>\n",
       "      <td>0</td>\n",
       "      <td>7</td>\n",
       "      <td>10</td>\n",
       "      <td>5</td>\n",
       "      <td>2</td>\n",
       "      <td>0</td>\n",
       "      <td>0</td>\n",
       "      <td>1327</td>\n",
       "      <td>83</td>\n",
       "      <td>over_60s</td>\n",
       "    </tr>\n",
       "    <tr>\n",
       "      <th>...</th>\n",
       "      <td>...</td>\n",
       "      <td>...</td>\n",
       "      <td>...</td>\n",
       "      <td>...</td>\n",
       "      <td>...</td>\n",
       "      <td>...</td>\n",
       "      <td>...</td>\n",
       "      <td>...</td>\n",
       "      <td>...</td>\n",
       "      <td>...</td>\n",
       "      <td>...</td>\n",
       "      <td>...</td>\n",
       "      <td>...</td>\n",
       "      <td>...</td>\n",
       "      <td>...</td>\n",
       "      <td>...</td>\n",
       "      <td>...</td>\n",
       "      <td>...</td>\n",
       "      <td>...</td>\n",
       "      <td>...</td>\n",
       "      <td>...</td>\n",
       "    </tr>\n",
       "    <tr>\n",
       "      <th>697</th>\n",
       "      <td>10548</td>\n",
       "      <td>1995</td>\n",
       "      <td>Graduation</td>\n",
       "      <td>Single</td>\n",
       "      <td>71163.0</td>\n",
       "      <td>0</td>\n",
       "      <td>0</td>\n",
       "      <td>9/3/2014</td>\n",
       "      <td>30</td>\n",
       "      <td>283</td>\n",
       "      <td>...</td>\n",
       "      <td>1</td>\n",
       "      <td>3</td>\n",
       "      <td>8</td>\n",
       "      <td>12</td>\n",
       "      <td>1</td>\n",
       "      <td>0</td>\n",
       "      <td>0</td>\n",
       "      <td>300</td>\n",
       "      <td>29</td>\n",
       "      <td>20s</td>\n",
       "    </tr>\n",
       "    <tr>\n",
       "      <th>1468</th>\n",
       "      <td>5184</td>\n",
       "      <td>1995</td>\n",
       "      <td>Graduation</td>\n",
       "      <td>Single</td>\n",
       "      <td>34824.0</td>\n",
       "      <td>0</td>\n",
       "      <td>0</td>\n",
       "      <td>3/26/2014</td>\n",
       "      <td>65</td>\n",
       "      <td>4</td>\n",
       "      <td>...</td>\n",
       "      <td>1</td>\n",
       "      <td>1</td>\n",
       "      <td>0</td>\n",
       "      <td>2</td>\n",
       "      <td>6</td>\n",
       "      <td>0</td>\n",
       "      <td>0</td>\n",
       "      <td>6</td>\n",
       "      <td>29</td>\n",
       "      <td>20s</td>\n",
       "    </tr>\n",
       "    <tr>\n",
       "      <th>964</th>\n",
       "      <td>3661</td>\n",
       "      <td>1995</td>\n",
       "      <td>2n Cycle</td>\n",
       "      <td>Single</td>\n",
       "      <td>80617.0</td>\n",
       "      <td>0</td>\n",
       "      <td>0</td>\n",
       "      <td>12/10/2012</td>\n",
       "      <td>42</td>\n",
       "      <td>594</td>\n",
       "      <td>...</td>\n",
       "      <td>1</td>\n",
       "      <td>4</td>\n",
       "      <td>6</td>\n",
       "      <td>8</td>\n",
       "      <td>2</td>\n",
       "      <td>0</td>\n",
       "      <td>0</td>\n",
       "      <td>645</td>\n",
       "      <td>29</td>\n",
       "      <td>20s</td>\n",
       "    </tr>\n",
       "    <tr>\n",
       "      <th>1824</th>\n",
       "      <td>193</td>\n",
       "      <td>1996</td>\n",
       "      <td>Basic</td>\n",
       "      <td>Married</td>\n",
       "      <td>14421.0</td>\n",
       "      <td>0</td>\n",
       "      <td>0</td>\n",
       "      <td>2/17/2014</td>\n",
       "      <td>81</td>\n",
       "      <td>0</td>\n",
       "      <td>...</td>\n",
       "      <td>1</td>\n",
       "      <td>1</td>\n",
       "      <td>0</td>\n",
       "      <td>2</td>\n",
       "      <td>5</td>\n",
       "      <td>0</td>\n",
       "      <td>0</td>\n",
       "      <td>0</td>\n",
       "      <td>28</td>\n",
       "      <td>20s</td>\n",
       "    </tr>\n",
       "    <tr>\n",
       "      <th>562</th>\n",
       "      <td>9909</td>\n",
       "      <td>1996</td>\n",
       "      <td>2n Cycle</td>\n",
       "      <td>Married</td>\n",
       "      <td>7500.0</td>\n",
       "      <td>0</td>\n",
       "      <td>0</td>\n",
       "      <td>9/11/2012</td>\n",
       "      <td>24</td>\n",
       "      <td>3</td>\n",
       "      <td>...</td>\n",
       "      <td>3</td>\n",
       "      <td>3</td>\n",
       "      <td>1</td>\n",
       "      <td>3</td>\n",
       "      <td>9</td>\n",
       "      <td>1</td>\n",
       "      <td>0</td>\n",
       "      <td>21</td>\n",
       "      <td>28</td>\n",
       "      <td>20s</td>\n",
       "    </tr>\n",
       "  </tbody>\n",
       "</table>\n",
       "<p>2240 rows × 25 columns</p>\n",
       "</div>"
      ],
      "text/plain": [
       "         Id  Year_Birth   Education Marital_Status   Income  Kidhome  \\\n",
       "513   11004        1893    2n Cycle         Single  60182.0        0   \n",
       "827    1150        1899         PhD       Together  83532.0        0   \n",
       "2233   7829        1900    2n Cycle       Divorced  36640.0        1   \n",
       "2171   6663        1940         PhD         Single  51141.0        0   \n",
       "1740   6932        1941         PhD        Married  93027.0        0   \n",
       "...     ...         ...         ...            ...      ...      ...   \n",
       "697   10548        1995  Graduation         Single  71163.0        0   \n",
       "1468   5184        1995  Graduation         Single  34824.0        0   \n",
       "964    3661        1995    2n Cycle         Single  80617.0        0   \n",
       "1824    193        1996       Basic        Married  14421.0        0   \n",
       "562    9909        1996    2n Cycle        Married   7500.0        0   \n",
       "\n",
       "      Teenhome Dt_Customer  Recency  MntWines  ...  NumDealsPurchases  \\\n",
       "513          1   5/17/2014       23         8  ...                  1   \n",
       "827          0   9/26/2013       36       755  ...                  1   \n",
       "2233         0   9/26/2013       99        15  ...                  1   \n",
       "2171         0    8/7/2013       96       144  ...                  1   \n",
       "1740         0   4/13/2013       77      1285  ...                  0   \n",
       "...        ...         ...      ...       ...  ...                ...   \n",
       "697          0    9/3/2014       30       283  ...                  1   \n",
       "1468         0   3/26/2014       65         4  ...                  1   \n",
       "964          0  12/10/2012       42       594  ...                  1   \n",
       "1824         0   2/17/2014       81         0  ...                  1   \n",
       "562          0   9/11/2012       24         3  ...                  3   \n",
       "\n",
       "      NumWebPurchases  NumCatalogPurchases  NumStorePurchases  \\\n",
       "513                 1                    0                  2   \n",
       "827                 4                    6                  4   \n",
       "2233                2                    1                  2   \n",
       "2171                3                    1                  4   \n",
       "1740                7                   10                  5   \n",
       "...               ...                  ...                ...   \n",
       "697                 3                    8                 12   \n",
       "1468                1                    0                  2   \n",
       "964                 4                    6                  8   \n",
       "1824                1                    0                  2   \n",
       "562                 3                    1                  3   \n",
       "\n",
       "      NumWebVisitsMonth  Response  Complain  total_mnt  Age  Age_group  \n",
       "513                   4         0         0          8  131        NaN  \n",
       "827                   1         0         0        899  125        NaN  \n",
       "2233                  5         0         1         21  124        NaN  \n",
       "2171                  5         0         0        144   84   over_60s  \n",
       "1740                  2         0         0       1327   83   over_60s  \n",
       "...                 ...       ...       ...        ...  ...        ...  \n",
       "697                   1         0         0        300   29        20s  \n",
       "1468                  6         0         0          6   29        20s  \n",
       "964                   2         0         0        645   29        20s  \n",
       "1824                  5         0         0          0   28        20s  \n",
       "562                   9         1         0         21   28        20s  \n",
       "\n",
       "[2240 rows x 25 columns]"
      ]
     },
     "execution_count": 169,
     "metadata": {},
     "output_type": "execute_result"
    }
   ],
   "source": [
    "#여기서 문제, 나이가 124-131살이 있다?\n",
    "#=> 데이터를 살펴보면, 2n Cycle이란 용어는 교육수준에서 사용되지 않고, 134세의 고령의 나이로 10대 자식이 있는 것도 평균적이지 않다. 데이터가 잘못 기입됐을 가능성이 높으며 100세 이상의 나이값 3개 중 2개가 데이터가 이상하므로 결측치로 판단하여 데이터에서 제외한다. none값으로 변경한다.\n",
    "sorted_df = df.sort_values(by = 'Age', ascending=False)\n",
    "sorted_df"
   ]
  },
  {
   "cell_type": "code",
   "execution_count": 208,
   "metadata": {},
   "outputs": [],
   "source": [
    "#2.Age 구간을 구분해주기 20대\n",
    "# 나이를 구간으로 나누고, bins 매개변수에 각 구간을 지정하고, labels 매개변수에 각 구간에 해당하는 레이블을 지정\n",
    "df.loc[(df['Age'] >= 20) & (df['Age'] < 30), 'Age_group'] = '20s'\n",
    "df.loc[(df['Age'] >= 30) & (df['Age'] < 40), 'Age_group'] = '30s'\n",
    "df.loc[(df['Age'] >= 40) & (df['Age'] < 50), 'Age_group'] = '40s'\n",
    "df.loc[(df['Age'] >= 50) & (df['Age'] < 60), 'Age_group'] = '50s'\n",
    "df.loc[(df['Age'] >= 60) & (df['Age'] < 70), 'Age_group'] = '60s'\n",
    "df.loc[(df['Age'] >= 70) & (df['Age'] < 80), 'Age_group'] = '70s'\n",
    "df.loc[(df['Age'] >= 80) & (df['Age'] < 90), 'Age_group'] = '80s'\n",
    "                "
   ]
  },
  {
   "cell_type": "code",
   "execution_count": 209,
   "metadata": {},
   "outputs": [],
   "source": [
    "grouped_by_age = df.groupby('Age_group')"
   ]
  },
  {
   "cell_type": "code",
   "execution_count": 211,
   "metadata": {},
   "outputs": [
    {
     "name": "stdout",
     "output_type": "stream",
     "text": [
      "  Age_group  Income\n",
      "0       20s   46658\n",
      "1       30s   46283\n",
      "2       40s   49225\n",
      "3       50s   50813\n",
      "4       60s   56201\n",
      "5       70s   58611\n",
      "6       80s   65564\n"
     ]
    }
   ],
   "source": [
    "#3.구간별 소득 평균값 도출하기\n",
    "#\n",
    "average_income_20s = df[df['Age_group'] == '20s']['Income'].mean()\n",
    "average_income_30s = df[df['Age_group'] == '30s']['Income'].mean()\n",
    "average_income_40s = df[df['Age_group'] == '40s']['Income'].mean()\n",
    "average_income_50s = df[df['Age_group'] == '50s']['Income'].mean()\n",
    "average_income_60s = df[df['Age_group'] == '60s']['Income'].mean()\n",
    "average_income_70s = df[df['Age_group'] == '70s']['Income'].mean()\n",
    "average_income_80s = df[df['Age_group'] == '80s']['Income'].mean()\n",
    "# 평균 소득값 계산\n",
    "average_income_by_age = df.groupby('Age_group')['Income'].mean().reset_index()\n",
    "average_income_by_age['Income'] = average_income_by_age['Income'].round().astype(int)\n",
    "print(average_income_by_age)"
   ]
  },
  {
   "cell_type": "code",
   "execution_count": null,
   "metadata": {},
   "outputs": [],
   "source": [
    "new_df = df[['Income', 'Age']]\n",
    "corr = new_df.corr()\n",
    "corr"
   ]
  },
  {
   "cell_type": "markdown",
   "metadata": {},
   "source": [
    "<나이와 구매루트별 및 총 구매 횟수의 상관관계(평균값)>\n",
    "     NumDealsPurchases    \n",
    " 16  NumWebPurchases      \n",
    " 17  NumCatalogPurchases \n",
    " 18  NumStorePurchases    \n",
    " 19  NumWebVisitsMonth "
   ]
  },
  {
   "cell_type": "code",
   "execution_count": 187,
   "metadata": {},
   "outputs": [
    {
     "name": "stdout",
     "output_type": "stream",
     "text": [
      "  Age_group  Income\n",
      "0       20s   46658\n",
      "1       30s   46283\n",
      "2       40s   49225\n",
      "3       50s   50813\n",
      "4  over_60s   57313\n"
     ]
    }
   ],
   "source": [
    "#Age group별 구매루트별 구매 횟수의 상관관계\n",
    "#3.구간별 구매루트 평균값 도출하기\n",
    "\n",
    "average_income_20s = df[df['Age_group'] == '20s']['Income'].mean()\n",
    "average_income_30s = df[df['Age_group'] == '30s']['Income'].mean()\n",
    "average_income_40s = df[df['Age_group'] == '40s']['Income'].mean()\n",
    "average_income_50s = df[df['Age_group'] == '50s']['Income'].mean()\n",
    "average_income_60s = df[df['Age_group'] == 'over_60s']['Income'].mean()\n",
    "# 평균 소득값 계산\n",
    "average_income_by_age = df.groupby('Age_group')['Income'].mean().reset_index()\n",
    "average_income_by_age['Income'] = average_income_by_age['Income'].round().astype(int)\n",
    "print(average_income_by_age)"
   ]
  },
  {
   "cell_type": "markdown",
   "metadata": {},
   "source": [
    "<나이와 구매루트별 및 총 구매 횟수의 상관관계(평균값)>\n",
    "1. Age group별 구매루트별 구매 횟수의 상관관계\n",
    "2. Age group별 총 구매 횟수의 상관관계(구매루트별 구매 횟수의 총합산"
   ]
  },
  {
   "cell_type": "code",
   "execution_count": null,
   "metadata": {},
   "outputs": [],
   "source": [
    "# '구매루트' 칼럼의 정보 확인\n",
    "print(\"NumDealsPurchases 칼럼의 고유한 값:\", df['NumDealsPurchases'].unique())"
   ]
  },
  {
   "cell_type": "code",
   "execution_count": null,
   "metadata": {},
   "outputs": [],
   "source": [
    "# '구매루트' 칼럼의 정보 확인\n",
    "print(\"NumWebPurchases 칼럼의 고유한 값:\", df['NumWebPurchases'].unique())"
   ]
  },
  {
   "cell_type": "code",
   "execution_count": null,
   "metadata": {},
   "outputs": [],
   "source": [
    "# '구매루트' 칼럼의 정보 확인\n",
    "print(\"NumCatalogPurchases 칼럼의 고유한 값:\", df['NumCatalogPurchases'].unique())"
   ]
  },
  {
   "cell_type": "code",
   "execution_count": null,
   "metadata": {},
   "outputs": [],
   "source": [
    "# '구매루트' 칼럼의 정보 확인\n",
    "print(\"NumStorePurchases 칼럼의 고유한 값:\", df['NumStorePurchases'].unique())"
   ]
  },
  {
   "cell_type": "code",
   "execution_count": null,
   "metadata": {},
   "outputs": [],
   "source": [
    "print(\"\\nNumStorePurchases 칼럼 정보:\")\n",
    "df['NumStorePurchases'].info()"
   ]
  },
  {
   "cell_type": "code",
   "execution_count": 198,
   "metadata": {},
   "outputs": [
    {
     "data": {
      "text/html": [
       "<div>\n",
       "<style scoped>\n",
       "    .dataframe tbody tr th:only-of-type {\n",
       "        vertical-align: middle;\n",
       "    }\n",
       "\n",
       "    .dataframe tbody tr th {\n",
       "        vertical-align: top;\n",
       "    }\n",
       "\n",
       "    .dataframe thead th {\n",
       "        text-align: right;\n",
       "    }\n",
       "</style>\n",
       "<table border=\"1\" class=\"dataframe\">\n",
       "  <thead>\n",
       "    <tr style=\"text-align: right;\">\n",
       "      <th></th>\n",
       "      <th>NumCatalogPurchases</th>\n",
       "      <th>NumDealsPurchases</th>\n",
       "      <th>NumStorePurchases</th>\n",
       "      <th>NumWebPurchases</th>\n",
       "    </tr>\n",
       "    <tr>\n",
       "      <th>Age_group</th>\n",
       "      <th></th>\n",
       "      <th></th>\n",
       "      <th></th>\n",
       "      <th></th>\n",
       "    </tr>\n",
       "  </thead>\n",
       "  <tbody>\n",
       "    <tr>\n",
       "      <th>20s</th>\n",
       "      <td>3.571429</td>\n",
       "      <td>1.285714</td>\n",
       "      <td>5.857143</td>\n",
       "      <td>2.571429</td>\n",
       "    </tr>\n",
       "    <tr>\n",
       "      <th>30s</th>\n",
       "      <td>2.485981</td>\n",
       "      <td>1.663551</td>\n",
       "      <td>5.504673</td>\n",
       "      <td>3.378505</td>\n",
       "    </tr>\n",
       "    <tr>\n",
       "      <th>40s</th>\n",
       "      <td>2.292639</td>\n",
       "      <td>2.226212</td>\n",
       "      <td>5.310592</td>\n",
       "      <td>3.739677</td>\n",
       "    </tr>\n",
       "    <tr>\n",
       "      <th>50s</th>\n",
       "      <td>2.329882</td>\n",
       "      <td>2.554734</td>\n",
       "      <td>5.579882</td>\n",
       "      <td>4.121302</td>\n",
       "    </tr>\n",
       "    <tr>\n",
       "      <th>over_60s</th>\n",
       "      <td>3.252874</td>\n",
       "      <td>2.392082</td>\n",
       "      <td>6.402299</td>\n",
       "      <td>4.512133</td>\n",
       "    </tr>\n",
       "  </tbody>\n",
       "</table>\n",
       "</div>"
      ],
      "text/plain": [
       "           NumCatalogPurchases  NumDealsPurchases  NumStorePurchases  \\\n",
       "Age_group                                                              \n",
       "20s                   3.571429           1.285714           5.857143   \n",
       "30s                   2.485981           1.663551           5.504673   \n",
       "40s                   2.292639           2.226212           5.310592   \n",
       "50s                   2.329882           2.554734           5.579882   \n",
       "over_60s              3.252874           2.392082           6.402299   \n",
       "\n",
       "           NumWebPurchases  \n",
       "Age_group                   \n",
       "20s               2.571429  \n",
       "30s               3.378505  \n",
       "40s               3.739677  \n",
       "50s               4.121302  \n",
       "over_60s          4.512133  "
      ]
     },
     "execution_count": 198,
     "metadata": {},
     "output_type": "execute_result"
    }
   ],
   "source": [
    "#  방법 2. \"Age_그룹에 따른 구매루트의 평균 횟수\" -> 'Age_그룹'을 인덱스로 하고 구매루트별 평균열을 포함하는 피벗 테이블 aggfunc=mean활용.\n",
    "pivot_df = df.pivot_table(index='Age_group', values=['NumDealsPurchases', 'NumCatalogPurchases', 'NumStorePurchases','NumWebPurchases'], aggfunc='mean')\n",
    "\n",
    "# 결과 출력\n",
    "pivot_df"
   ]
  },
  {
   "cell_type": "code",
   "execution_count": 200,
   "metadata": {},
   "outputs": [
    {
     "data": {
      "image/png": "[encoded data removed]",
      "text/plain": [
       "<Figure size 1200x800 with 1 Axes>"
      ]
     },
     "metadata": {},
     "output_type": "display_data"
    }
   ],
   "source": [
    "import matplotlib.pyplot as plt\n",
    "import numpy as np\n",
    "\n",
    "# 데이터 정의\n",
    "age_groups = ['20s', '30s', '40s', '50s', 'over 60s']\n",
    "num_catalog_purchases = [3.57, 2.49, 2.29, 2.33, 3.25]\n",
    "num_deals_purchases = [1.29, 1.66, 2.23, 2.55, 2.39]\n",
    "num_store_purchases = [5.86, 5.50, 5.31, 5.58, 6.40]\n",
    "num_web_purchases = [2.57, 3.38, 3.74, 4.12, 4.51]\n",
    "\n",
    "# x 위치 설정\n",
    "x = np.arange(len(age_groups))\n",
    "width = 0.2\n",
    "\n",
    "# 막대 그래프 생성\n",
    "fig, ax = plt.subplots(figsize=(12, 8))\n",
    "bar1 = ax.bar(x - 1.5*width, num_catalog_purchases, width, label='Catalog Purchases')\n",
    "bar2 = ax.bar(x - 0.5*width, num_deals_purchases, width, label='Deals Purchases')\n",
    "bar3 = ax.bar(x + 0.5*width, num_store_purchases, width, label='Store Purchases')\n",
    "bar4 = ax.bar(x + 1.5*width, num_web_purchases, width, label='Web Purchases')\n",
    "\n",
    "# 그래프 라벨 및 타이틀 설정\n",
    "ax.set_xlabel('Age Group')\n",
    "ax.set_ylabel('Average Number of Purchases')\n",
    "ax.set_title('Average Number of Purchases by Age Group and Purchase Type')\n",
    "ax.set_xticks(x)\n",
    "ax.set_xticklabels(age_groups)\n",
    "ax.legend()\n",
    "\n",
    "# 그래프 보여주기\n",
    "plt.show()\n"
   ]
  },
  {
   "cell_type": "code",
   "execution_count": 192,
   "metadata": {},
   "outputs": [
    {
     "data": {
      "text/html": [
       "<div>\n",
       "<style scoped>\n",
       "    .dataframe tbody tr th:only-of-type {\n",
       "        vertical-align: middle;\n",
       "    }\n",
       "\n",
       "    .dataframe tbody tr th {\n",
       "        vertical-align: top;\n",
       "    }\n",
       "\n",
       "    .dataframe thead th {\n",
       "        text-align: right;\n",
       "    }\n",
       "</style>\n",
       "<table border=\"1\" class=\"dataframe\">\n",
       "  <thead>\n",
       "    <tr style=\"text-align: right;\">\n",
       "      <th></th>\n",
       "      <th>Age_group</th>\n",
       "      <th>NumDealsPurchases</th>\n",
       "      <th>NumCatalogPurchases</th>\n",
       "      <th>NumStorePurchases</th>\n",
       "      <th>NumWebPurchases</th>\n",
       "    </tr>\n",
       "  </thead>\n",
       "  <tbody>\n",
       "    <tr>\n",
       "      <th>0</th>\n",
       "      <td>20s</td>\n",
       "      <td>1.285714</td>\n",
       "      <td>3.571429</td>\n",
       "      <td>5.857143</td>\n",
       "      <td>2.571429</td>\n",
       "    </tr>\n",
       "    <tr>\n",
       "      <th>1</th>\n",
       "      <td>30s</td>\n",
       "      <td>1.663551</td>\n",
       "      <td>2.485981</td>\n",
       "      <td>5.504673</td>\n",
       "      <td>3.378505</td>\n",
       "    </tr>\n",
       "    <tr>\n",
       "      <th>2</th>\n",
       "      <td>40s</td>\n",
       "      <td>2.226212</td>\n",
       "      <td>2.292639</td>\n",
       "      <td>5.310592</td>\n",
       "      <td>3.739677</td>\n",
       "    </tr>\n",
       "    <tr>\n",
       "      <th>3</th>\n",
       "      <td>50s</td>\n",
       "      <td>2.554734</td>\n",
       "      <td>2.329882</td>\n",
       "      <td>5.579882</td>\n",
       "      <td>4.121302</td>\n",
       "    </tr>\n",
       "    <tr>\n",
       "      <th>4</th>\n",
       "      <td>over_60s</td>\n",
       "      <td>2.392082</td>\n",
       "      <td>3.252874</td>\n",
       "      <td>6.402299</td>\n",
       "      <td>4.512133</td>\n",
       "    </tr>\n",
       "  </tbody>\n",
       "</table>\n",
       "</div>"
      ],
      "text/plain": [
       "  Age_group  NumDealsPurchases  NumCatalogPurchases  NumStorePurchases  \\\n",
       "0       20s           1.285714             3.571429           5.857143   \n",
       "1       30s           1.663551             2.485981           5.504673   \n",
       "2       40s           2.226212             2.292639           5.310592   \n",
       "3       50s           2.554734             2.329882           5.579882   \n",
       "4  over_60s           2.392082             3.252874           6.402299   \n",
       "\n",
       "   NumWebPurchases  \n",
       "0         2.571429  \n",
       "1         3.378505  \n",
       "2         3.739677  \n",
       "3         4.121302  \n",
       "4         4.512133  "
      ]
     },
     "execution_count": 192,
     "metadata": {},
     "output_type": "execute_result"
    }
   ],
   "source": [
    "#진영님코드\n",
    "purchase_stats_by_age = grouped_by_age[['NumDealsPurchases', 'NumCatalogPurchases', 'NumStorePurchases', 'NumWebPurchases']].mean()\n",
    "purchase_stats_by_age"
   ]
  },
  {
   "cell_type": "code",
   "execution_count": 174,
   "metadata": {},
   "outputs": [
    {
     "name": "stdout",
     "output_type": "stream",
     "text": [
      "  Age_group  NumCatalogPurchases  NumDealsPurchases  NumStorePurchases  \\\n",
      "0       20s             3.571429           1.285714           5.857143   \n",
      "1       30s             2.485981           1.663551           5.504673   \n",
      "2       40s             2.292639           2.226212           5.310592   \n",
      "3       50s             2.329882           2.554734           5.579882   \n",
      "4  over_60s             3.252874           2.392082           6.402299   \n",
      "\n",
      "   NumWebPurchases  NumWebVisitsMonth  \n",
      "0         2.571429           5.000000  \n",
      "1         3.378505           5.313084  \n",
      "2         3.739677           5.587074  \n",
      "3         4.121302           5.649408  \n",
      "4         4.512133           4.848020  \n"
     ]
    }
   ],
   "source": [
    "average_purchase_by_age = df.groupby('Age_group')[['NumCatalogPurchases', 'NumDealsPurchases', 'NumStorePurchases', 'NumWebPurchases', 'NumWebVisitsMonth']].mean().reset_index()\n",
    "\n",
    "# 결과 출력\n",
    "print(average_purchase_by_age)"
   ]
  },
  {
   "cell_type": "code",
   "execution_count": 182,
   "metadata": {},
   "outputs": [
    {
     "name": "stdout",
     "output_type": "stream",
     "text": [
      "           NumCatalogPurchases  NumDealsPurchases  NumStorePurchases  \\\n",
      "Age_group                                                              \n",
      "20s                   3.571429           1.285714           5.857143   \n",
      "30s                   2.485981           1.663551           5.504673   \n",
      "40s                   2.292639           2.226212           5.310592   \n",
      "50s                   2.329882           2.554734           5.579882   \n",
      "over_60s              3.252874           2.392082           6.402299   \n",
      "\n",
      "           NumWebPurchases  NumWebVisitsMonth  \n",
      "Age_group                                      \n",
      "20s               2.571429           5.000000  \n",
      "30s               3.378505           5.313084  \n",
      "40s               3.739677           5.587074  \n",
      "50s               4.121302           5.649408  \n",
      "over_60s          4.512133           4.848020  \n"
     ]
    }
   ],
   "source": [
    "#  방법 2. 맞는 방법.. \"Age_그룹에 따른 구매루트의 평균 횟수\" -> 'Age_그룹'을 인덱스로 하고 구매루트별 평균열을 포함하는 피벗 테이블 aggfunc=mean활용.\n",
    "pivot_df = df.pivot_table(index='Age_group', values=['NumDealsPurchases','NumWebPurchases', 'NumCatalogPurchases', 'NumStorePurchases','NumWebVisitsMonth'],aggfunc='mean')\n",
    "\n",
    "# 결과 출력\n",
    "print(pivot_df)"
   ]
  },
  {
   "cell_type": "code",
   "execution_count": null,
   "metadata": {},
   "outputs": [],
   "source": [
    "import pandas as pd\n",
    "import matplotlib.pyplot as plt\n",
    "import seaborn as sns\n",
    "\n",
    "# 예제 피벗 테이블 데이터\n",
    "data = {\n",
    "    'Age_group': ['20s', '30s', '40s', '50s', 'over_60s'],\n",
    "    'NumCatalogPurchases': [3.571429, 2.485981, 2.292639, 2.329882, 3.252874],\n",
    "    'NumDealsPurchases': [1.285714, 1.663551, 2.226212, 2.554734, 2.392082],\n",
    "    'NumStorePurchases': [5.857143, 5.504673, 5.310592, 5.579882, 6.402299],\n",
    "    'NumWebPurchases': [2.571429, 3.378505, 3.739677, 4.121302, 4.512133],\n",
    "}\n",
    "pivot_df = pd.DataFrame(data).set_index('Age_group')\n",
    "\n",
    "# 피벗 테이블 시각화\n",
    "pivot_df.plot(kind='bar', figsize=(12, 8))\n",
    "plt.title('count_purchaseroot_by_Age_group')\n",
    "plt.xlabel('Age Group')\n",
    "plt.ylabel('Average Number of Purchase')\n",
    "plt.xticks(rotation=0)\n",
    "plt.legend(title='Purchase Type')\n",
    "plt.tight_layout()\n",
    "plt.show()"
   ]
  },
  {
   "cell_type": "code",
   "execution_count": null,
   "metadata": {},
   "outputs": [],
   "source": [
    "# 'Age' 칼럼의 정보 확인\n",
    "df['Age'].info()"
   ]
  },
  {
   "cell_type": "code",
   "execution_count": null,
   "metadata": {},
   "outputs": [],
   "source": [
    "# 예제 데이터프레임 생성\n",
    "data = {\n",
    "    'Age_group': ['20s', '20s', '30s', '30s', '40s', '40s', '50s', '50s', 'over_60s', 'over_60s'],\n",
    "    'NumDealsPurchases': [1, 2, 1, 2, 1, 2, 1, 2, 1, 2],\n",
    "    'NumWebPurchases': [2, 3, 2, 4, 2, 3, 2, 4, 2, 4],\n",
    "    'NumCatalogPurchases': [1, 2, 1, 2, 1, 2, 1, 2, 1, 2],\n",
    "    'NumStorePurchases': [5, 6, 5, 7, 5, 6, 5, 7, 5, 6],\n",
    "    'NumWebVisitsMonth': [5, 6, 5, 4, 5, 4, 5, 4, 5, 4]\n",
    "}\n",
    "df = pd.DataFrame(data)"
   ]
  },
  {
   "cell_type": "code",
   "execution_count": null,
   "metadata": {},
   "outputs": [],
   "source": [
    "# 'Age'를 인덱스로 하고 구매루트별 열을 포함하는 피벗 테이블 => \"Age에 따른 구매루트의 합\"\n",
    "pivot_df = df.pivot_table(index='Age_group', values=['NumDealsPurchases','NumWebPurchases', 'NumCatalogPurchases', 'NumStorePurchases','NumWebVisitsMonth'], aggfunc='sum')\n",
    "\n",
    "# 결과 출력\n",
    "print(pivot_df)"
   ]
  },
  {
   "cell_type": "code",
   "execution_count": null,
   "metadata": {},
   "outputs": [],
   "source": [
    "# 각 그룹의 평균 구매 통계 확인\n",
    "purchase_stats_by_age = grouped_by_age[['NumDealsPurchases', 'NumCatalogPurchases', 'NumStorePurchases', 'NumWebPurchases']].mean()"
   ]
  },
  {
   "cell_type": "code",
   "execution_count": null,
   "metadata": {},
   "outputs": [],
   "source": [
    "#결측치제거3 가족구성원 수로 평균값구하기 (1인, 1인이 아닌 가구)\n",
    "# 1인: marital_status 가 Divorced, Single, Widow, YOLO, Alone, Absurd kidhome:0 , Teenhome:0\n",
    "# 1인이 아닌 가구: 1. Married, Together kidhome >= 0, kidhome >= 0\n",
    "#               2. Divorced, Single, Widow, YOLO, Alone, Absurd kidhome > 0 , Teenhome > 0\n",
    "\n",
    "#Income - customer's yearly household income\n",
    "#Mean 52.2k\n",
    "\n",
    "\n",
    "df['Marital_Status'].unique()\n",
    "\n",
    "df\n",
    "# 가구당 평균 소득 먼저 구하고, 평균 소득이 기존 데이터와 일치하는지 확인 - 타당성 증명\n",
    "# 데이터 상 평균 소득이 일리가 있음을 나타낸후\n",
    "# 결측치에 평균값 적용"
   ]
  },
  {
   "cell_type": "markdown",
   "metadata": {},
   "source": [
    "\n"
   ]
  },
  {
   "cell_type": "code",
   "execution_count": 180,
   "metadata": {},
   "outputs": [
    {
     "data": {
      "text/plain": [
       "array(['Graduation', 'PhD', '2n Cycle', 'Master', 'Basic'], dtype=object)"
      ]
     },
     "execution_count": 180,
     "metadata": {},
     "output_type": "execute_result"
    }
   ],
   "source": [
    "#결측치 제거 \n",
    "# 교육 수준 컬럼 (1~5로 구분, 베이직:1 , phd:5)\n",
    "education_mapping = {\n",
    "    'Basic': 1,\n",
    "    '2n Cycle': 3,\n",
    "    'Graduation': 2,\n",
    "    'Master': 3,\n",
    "    'PhD': 4\n",
    "}\n",
    "df['Education_by_num'] = df['Education'].map(education_mapping)\n",
    "\n",
    "df['Education'].unique()"
   ]
  },
  {
   "cell_type": "code",
   "execution_count": null,
   "metadata": {},
   "outputs": [],
   "source": [
    "# Dt_Customer를 datetime 타입으로 변환\n",
    "df['Dt_Customer'] = pd.to_datetime(df['Dt_Customer'])\n",
    "# 현재 날짜를 기준으로 Recency 계산 > 패스트와 리센트\n",
    "current_date = dt.datetime(2024, 5, 20)\n",
    "df['Recency'] = (current_date - df['Dt_Customer']).dt.days \n",
    "#total_mounts = Frency 3회이상 구매시 high low\n",
    "#total_Purchase = montary 500달러 이상시 high low\n"
   ]
  }
 ],
 "metadata": {
  "kernelspec": {
   "display_name": "Python 3",
   "language": "python",
   "name": "python3"
  },
  "language_info": {
   "codemirror_mode": {
    "name": "ipython",
    "version": 3
   },
   "file_extension": ".py",
   "mimetype": "text/x-python",
   "name": "python",
   "nbconvert_exporter": "python",
   "pygments_lexer": "ipython3",
   "version": "3.12.3"
  }
 },
 "nbformat": 4,
 "nbformat_minor": 2
}
